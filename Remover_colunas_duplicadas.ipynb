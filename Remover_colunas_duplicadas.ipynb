{
 "cells": [
  {
   "cell_type": "code",
   "execution_count": null,
   "metadata": {},
   "outputs": [],
   "source": [
    "##Remover_colunas_duplicadas.ipynb\n",
    "\n",
    "er_colunas_duplicadas\n",
    "%%spark\n",
    "# Inicializando o SparkSession\n",
    "#spark = SparkSession.builder.appName(\"Deduplicate Columns\").getOrCreate()\n",
    "\n",
    "# Exemplo de DataFrame com colunas duplicadas\n",
    "data = [\n",
    "    (1, \"A\", \"B\"),\n",
    "    (2, \"B\", \"C\")\n",
    "]\n",
    "columns = [\"id\", \"value\", \"value\"]  # 'value' está duplicado\n",
    "df = spark.createDataFrame(data, columns)\n",
    "\n",
    "# Função para remover colunas duplicadas\n",
    "def remove_duplicate_columns(df):\n",
    "    # Criar um dicionário para manter o controle dos nomes de colunas e suas contagens\n",
    "    new_columns = []\n",
    "    col_counts = {}\n",
    "    \n",
    "    for col_name in df.columns:\n",
    "        count = col_counts.get(col_name, 0)\n",
    "        if count > 0:\n",
    "            new_name = f\"{col_name}_{count}\"\n",
    "        else:\n",
    "            new_name = col_name\n",
    "        new_columns.append(new_name)\n",
    "        col_counts[col_name] = count + 1\n",
    "    \n",
    "    # Renomear colunas no DataFrame\n",
    "    df = df.toDF(*new_columns)\n",
    "    \n",
    "    # Selecionar apenas a primeira ocorrência de cada nome de coluna original\n",
    "    final_columns = [f\"{col_name}_{col_counts[col_name]-1}\" if col_counts[col_name] > 1 else col_name for col_name in col_counts]\n",
    "    df = df.select(*final_columns)\n",
    "    \n",
    "    return df\n",
    "\n",
    "# Aplicando a função para remover duplicidades\n",
    "df_clean = remove_duplicate_columns(df)\n",
    "df_clean.show()"
   ]
  }
 ],
 "metadata": {
  "language_info": {
   "name": "python"
  }
 },
 "nbformat": 4,
 "nbformat_minor": 2
}
