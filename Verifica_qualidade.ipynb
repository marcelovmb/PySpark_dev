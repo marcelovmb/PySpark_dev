{
 "cells": [
  {
   "cell_type": "code",
   "execution_count": null,
   "metadata": {},
   "outputs": [],
   "source": [
    "%%time\n",
    "%%spark\n",
    "##Codigo apenas para verificar duplicidade de registros\n",
    "df_lim = spark.table(lim_cli).select(list_colunas)\n",
    "\n",
    "# Definir uma janela para análise pela coluna 'cd_cli_pf'\n",
    "windowSpec = Window.partitionBy(\"cd_cli\")\n",
    "\n",
    "# Contar quantas vezes cada 'cd_cli_pf' ocorre\n",
    "df_lim_cli = df_lim_cli.withColumn(\"contagem\", F.count(\"*\").over(windowSpec))\n",
    "\n",
    "# Adicionar a coluna 'duplicidade', onde 1 indica duplicidade e 0 indica não duplicidade\n",
    "df_lim_cli = df_lim_cli.withColumn(\"duplicidade\", F.when(F.col(\"contagem\") > 1, 1).otherwise(0))\n",
    "\n",
    "# Remover a coluna 'contagem' se não for mais necessária\n",
    "df_lim_cli = df_lim_cli.drop(\"contagem\")\n",
    "\n",
    "# Ordenar o DataFrame pela coluna 'duplicidade' em ordem decrescente (opcional)\n",
    "df_lim_cli = df_lim_cli.orderBy(F.col(\"cd_cli\").desc(),F.col(\"duplicidade\").desc())\n",
    "\n",
    "# Exibir o resultado\n",
    "df_lim_cli.show()"
   ]
  }
 ],
 "metadata": {
  "language_info": {
   "name": "python"
  }
 },
 "nbformat": 4,
 "nbformat_minor": 2
}
