{
 "cells": [
  {
   "cell_type": "markdown",
   "metadata": {},
   "source": [
    "# Dicas PySpark"
   ]
  },
  {
   "cell_type": "code",
   "execution_count": null,
   "metadata": {},
   "outputs": [],
   "source": [
    "#Quando você tem consultas frequentes em grandes tabelas que aplicam filtros (WHERE, JOIN, etc.) em colunas específicas, como date, customer_id, ou region.\n",
    "OPTIMIZE my_table\n",
    "ZORDER BY (customer_id, date);\n",
    "\n",
    "#Isso otimiza a tabela para consultas baseadas em customer_id e date.\n",
    "#Benefícios:\n",
    "#Reduz o IO (Input/Output) ao acessar apenas os arquivos relevantes.\n",
    "#Melhora o desempenho de consultas em tabelas muito grandes com muitos arquivos particionados."
   ]
  },
  {
   "cell_type": "markdown",
   "metadata": {},
   "source": [
    "## Usando as propriedades do Delta Lake TIME TRAVEL: \"VERSION AS OF\", \"TIMESTAMP AS OF\", \"DESCRIBE HISTORY\", \"RESTORE TABLE\""
   ]
  },
  {
   "cell_type": "code",
   "execution_count": null,
   "metadata": {},
   "outputs": [],
   "source": [
    "#Cenário:\n",
    "#Você gerencia uma tabela de pacientes chamada pacientes_delta que contém dados sensíveis sobre histórico médico. \n",
    "# Por engano, um analista deletou ou alterou registros importantes, e agora você precisa restaurar os dados para o estado em que estavam antes do incidente.\n",
    "\n",
    "CREATE TABLE pacientes_delta (\n",
    "    id INT,\n",
    "    nome STRING,\n",
    "    diagnostico STRING\n",
    ") USING DELTA;\n",
    "\n",
    "INSERT INTO pacientes_delta VALUES\n",
    "    (1, 'Maria', 'Hipertensão'),\n",
    "    (2, 'João', 'Diabetes'),\n",
    "    (3, 'Ana', 'Asma');\n",
    "---\n",
    "UPDATE pacientes_delta\n",
    "SET diagnostico = 'Nenhum'\n",
    "WHERE id = 2;\n",
    "---\n",
    "SELECT * FROM pacientes_delta VERSION AS OF 0;\n",
    "SELECT * FROM pacientes_delta TIMESTAMP AS OF '2025-01-15T10:00:00.000+0000';\n",
    "RESTORE TABLE pacientes_delta TO VERSION AS OF 0;\n",
    "--\n",
    "#Você pode usar o comando para identificar as versões da tabela, para então identificar qual estada deseja fazer o restore. \n",
    "DESCRIBE HISTORY nome_da_tabela;"
   ]
  },
  {
   "cell_type": "markdown",
   "metadata": {},
   "source": [
    "## Usando UDFs:"
   ]
  },
  {
   "cell_type": "code",
   "execution_count": null,
   "metadata": {},
   "outputs": [],
   "source": [
    "#Calcular o IMC (Índice de Massa Corporal) de pacientes a partir de suas alturas e pesos. O cálculo não está disponível nativamente no Spark.\n",
    "from pyspark.sql.functions import udf\n",
    "from pyspark.sql.types import DoubleType\n",
    "\n",
    "# Função Python para calcular o IMC\n",
    "def calcular_imc(peso, altura):\n",
    "    if altura > 0:  # Evita divisão por zero\n",
    "        return peso / (altura ** 2)\n",
    "    return None\n",
    "\n",
    "# Registrar a função como UDF\n",
    "calcular_imc_udf = udf(calcular_imc, DoubleType())\n",
    "\n",
    "# Criar DataFrame com dados de exemplo\n",
    "dados = [(1, 70.0, 1.75), (2, 80.0, 1.80), (3, 90.0, 0)]  # ID, Peso, Altura\n",
    "colunas = [\"id\", \"peso\", \"altura\"]\n",
    "df = spark.createDataFrame(dados, colunas)\n",
    "\n",
    "# Aplicar a UDF no DataFrame\n",
    "df_com_imc = df.withColumn(\"imc\", calcular_imc_udf(df.peso, df.altura))\n",
    "\n",
    "# Mostrar o resultado\n",
    "df_com_imc.show()"
   ]
  },
  {
   "cell_type": "code",
   "execution_count": null,
   "metadata": {},
   "outputs": [],
   "source": [
    "#Escrever uma UDF para converter strings em letras maiúsculas, simulando uma necessidade customizada.\n",
    "from pyspark.sql.functions import udf\n",
    "from pyspark.sql.types import StringType\n",
    "\n",
    "# Função Python para converter texto para maiúsculas\n",
    "def para_maiusculas(texto):\n",
    "    if texto:\n",
    "        return texto.upper()\n",
    "    return None\n",
    "\n",
    "# Registrar como UDF\n",
    "para_maiusculas_udf = udf(para_maiusculas, StringType())\n",
    "\n",
    "# Criar DataFrame com dados de exemplo\n",
    "dados = [(\"João\",), (\"Maria\",), (\"Carlos\",)]\n",
    "colunas = [\"nome\"]\n",
    "df = spark.createDataFrame(dados, colunas)\n",
    "\n",
    "# Aplicar a UDF\n",
    "df_maiusculo = df.withColumn(\"nome_maiusculo\", para_maiusculas_udf(df.nome))\n",
    "\n",
    "# Mostrar o resultado\n",
    "df_maiusculo.show()"
   ]
  },
  {
   "cell_type": "code",
   "execution_count": null,
   "metadata": {},
   "outputs": [],
   "source": [
    "#Criar uma UDF que classifique a idade em faixas etárias com base em múltiplas condições.\n",
    "from pyspark.sql.functions import udf\n",
    "from pyspark.sql.types import StringType\n",
    "\n",
    "# Função para categorizar faixa etária\n",
    "def faixa_etaria(idade):\n",
    "    if idade < 18:\n",
    "        return \"Menor de idade\"\n",
    "    elif 18 <= idade < 60:\n",
    "        return \"Adulto\"\n",
    "    else:\n",
    "        return \"Idoso\"\n",
    "\n",
    "# Registrar como UDF\n",
    "faixa_etaria_udf = udf(faixa_etaria, StringType())\n",
    "\n",
    "# Criar DataFrame com dados de exemplo\n",
    "dados = [(15,), (25,), (65,)]\n",
    "colunas = [\"idade\"]\n",
    "df = spark.createDataFrame(dados, colunas)\n",
    "\n",
    "# Aplicar a UDF\n",
    "df_faixa = df.withColumn(\"faixa_etaria\", faixa_etaria_udf(df.idade))\n",
    "\n",
    "# Mostrar o resultado\n",
    "df_faixa.show()"
   ]
  },
  {
   "cell_type": "code",
   "execution_count": null,
   "metadata": {},
   "outputs": [],
   "source": [
    "#Converter strings para letras maiúsculas pode ser feito com uma função nativa do Spark:\n",
    "from pyspark.sql.functions import upper\n",
    "\n",
    "# Criar DataFrame com dados de exemplo\n",
    "dados = [(\"João\",), (\"Maria\",), (\"Carlos\",)]\n",
    "colunas = [\"nome\"]\n",
    "df = spark.createDataFrame(dados, colunas)\n",
    "\n",
    "# Usar função nativa em vez de UDF\n",
    "df_maiusculo = df.withColumn(\"nome_maiusculo\", upper(df.nome))\n",
    "\n",
    "# Mostrar o resultado\n",
    "df_maiusculo.show()\n"
   ]
  }
 ],
 "metadata": {
  "language_info": {
   "name": "python"
  }
 },
 "nbformat": 4,
 "nbformat_minor": 2
}
